{
 "cells": [
  {
   "cell_type": "code",
   "execution_count": 1,
   "metadata": {
    "colab": {
     "base_uri": "https://localhost:8080/",
     "height": 0
    },
    "id": "QVpEwc67jGjd",
    "outputId": "ab2a7997-1ac6-4a39-97ca-68cf384b3a7c"
   },
   "outputs": [
    {
     "name": "stdout",
     "output_type": "stream",
     "text": [
      "Mounted at /content/drive\n"
     ]
    }
   ],
   "source": [
    "from google.colab import drive\n",
    "drive.mount('/content/drive')"
   ]
  },
  {
   "cell_type": "code",
   "execution_count": 2,
   "metadata": {
    "id": "V2lZbJNhjI3S"
   },
   "outputs": [],
   "source": [
    "import warnings\n",
    "warnings.filterwarnings('ignore')\n",
    "import numpy as np\n",
    "import pandas as pd\n",
    "import matplotlib.pyplot as plt\n",
    "import seaborn as sns\n",
    "from sklearn.model_selection import train_test_split\n",
    "from sklearn.preprocessing import LabelEncoder"
   ]
  },
  {
   "cell_type": "code",
   "execution_count": 3,
   "metadata": {
    "id": "xPzZZ_M1jI74"
   },
   "outputs": [],
   "source": [
    "pd.options.display.float_format = '{:.5f}'.format"
   ]
  },
  {
   "cell_type": "markdown",
   "metadata": {
    "id": "Gj4AKrfCEa-r"
   },
   "source": [
    "raw 데이터인 user_spec과 loan_result를 병합한 데이터를 train과 test로 나눈 csv 호출"
   ]
  },
  {
   "cell_type": "code",
   "execution_count": 4,
   "metadata": {
    "id": "6O7BgPu8jJCj"
   },
   "outputs": [],
   "source": [
    "train = pd.read_csv(\"/content/drive/MyDrive/빅콘테스트/bigcon_train_origin.csv\", index_col = 0)"
   ]
  },
  {
   "cell_type": "code",
   "execution_count": 5,
   "metadata": {
    "id": "fXkL-WiMoiBE"
   },
   "outputs": [],
   "source": [
    "test = pd.read_csv(\"/content/drive/MyDrive/빅콘테스트/bigcon_test_origin.csv\", index_col = 0)"
   ]
  },
  {
   "cell_type": "code",
   "execution_count": 6,
   "metadata": {
    "id": "MhN3-mpcjTnI"
   },
   "outputs": [],
   "source": [
    "log_data = pd.read_csv(\"/content/drive/MyDrive/빅콘테스트/빅콘테스트_데이터셋/log_data.csv\")"
   ]
  },
  {
   "cell_type": "markdown",
   "metadata": {
    "id": "YpD5HbnS429Q"
   },
   "source": [
    "## test data application_id로 정렬"
   ]
  },
  {
   "cell_type": "markdown",
   "metadata": {
    "id": "kP5V-v6rYR2x"
   },
   "source": [
    "제출용 평가데이터 파일이 application_id를 기준으로 정렬되어 있으므로 test data 정렬"
   ]
  },
  {
   "cell_type": "code",
   "execution_count": 7,
   "metadata": {
    "id": "_w_8O8t14rnJ"
   },
   "outputs": [],
   "source": [
    "test = test.sort_values(['application_id'])"
   ]
  },
  {
   "cell_type": "code",
   "execution_count": 8,
   "metadata": {
    "id": "-AxOqV1B4-rb"
   },
   "outputs": [],
   "source": [
    "test.reset_index(drop=True, inplace =True)"
   ]
  },
  {
   "cell_type": "markdown",
   "metadata": {
    "id": "yZfBh13kZNXo"
   },
   "source": [
    "## bank_rank 파생변수 생성"
   ]
  },
  {
   "cell_type": "markdown",
   "metadata": {
    "id": "sxQM30TpEp46"
   },
   "source": [
    "is_applied가 1인 데이터 중 bank_id의 개수가 제일 많은 순서대로 그룹화하여 순위를 결정한 뒤 bank_rank 변수 생성"
   ]
  },
  {
   "cell_type": "code",
   "execution_count": 9,
   "metadata": {
    "id": "nTzrt3E6YVfK"
   },
   "outputs": [],
   "source": [
    "train['bank_rank'] = 0\n",
    "test['bank_rank'] = 0"
   ]
  },
  {
   "cell_type": "code",
   "execution_count": 10,
   "metadata": {
    "id": "sezMcWXRVqeX"
   },
   "outputs": [],
   "source": [
    "bank_list = [59, 29, 49, 38]\n",
    "\n",
    "for i in bank_list:\n",
    "    idx = train[train['bank_id'].isin([i])]['bank_id'].index\n",
    "    idx2 = test[test['bank_id'].isin([i])]['bank_id'].index\n",
    "    train.loc[idx,'bank_rank'] = 6\n",
    "    test.loc[idx2,'bank_rank'] = 6"
   ]
  },
  {
   "cell_type": "code",
   "execution_count": 11,
   "metadata": {
    "id": "eIx43W4-XXKY"
   },
   "outputs": [],
   "source": [
    "bank_list = [2, 35, 27, 1, 36]\n",
    "\n",
    "for i in bank_list:\n",
    "    idx = train[train['bank_id'].isin([i])]['bank_id'].index\n",
    "    idx2 = test[test['bank_id'].isin([i])]['bank_id'].index\n",
    "    train.loc[idx,'bank_rank'] = 5\n",
    "    test.loc[idx2,'bank_rank'] = 5"
   ]
  },
  {
   "cell_type": "code",
   "execution_count": 12,
   "metadata": {
    "id": "qWv2VsKlXYeS"
   },
   "outputs": [],
   "source": [
    "bank_list = [4, 33, 6, 40, 8, 63, 50, 13, 19, 21, 23, 30, 47, 52]\n",
    "\n",
    "for i in bank_list:\n",
    "    idx = train[train['bank_id'].isin([i])]['bank_id'].index\n",
    "    idx2 = test[test['bank_id'].isin([i])]['bank_id'].index\n",
    "    train.loc[idx,'bank_rank'] = 4\n",
    "    test.loc[idx2,'bank_rank'] = 4"
   ]
  },
  {
   "cell_type": "code",
   "execution_count": 13,
   "metadata": {
    "id": "pdWMBbE0XYz0"
   },
   "outputs": [],
   "source": [
    "bank_list = [58, 10, 54, 22, 32, 17, 5, 31, 43, 45, 7, 37]\n",
    "\n",
    "for i in bank_list:\n",
    "    idx = train[train['bank_id'].isin([i])]['bank_id'].index\n",
    "    idx2 = test[test['bank_id'].isin([i])]['bank_id'].index\n",
    "    train.loc[idx,'bank_rank'] = 3\n",
    "    test.loc[idx2,'bank_rank'] = 3"
   ]
  },
  {
   "cell_type": "code",
   "execution_count": 14,
   "metadata": {
    "id": "B4urGlfwXjdU"
   },
   "outputs": [],
   "source": [
    "bank_list = [14, 56, 41, 42, 15, 24, 34,57, 44, 60, 11, 25, 55, 2, 64, 18, 3, 26, 20, 46, 51, 12]\n",
    "\n",
    "for i in bank_list:\n",
    "    idx = train[train['bank_id'].isin([i])]['bank_id'].index\n",
    "    idx2 = test[test['bank_id'].isin([i])]['bank_id'].index\n",
    "    train.loc[idx,'bank_rank'] = 2\n",
    "    test.loc[idx2,'bank_rank'] = 2"
   ]
  },
  {
   "cell_type": "code",
   "execution_count": 15,
   "metadata": {
    "id": "UnEZ5lhiXkbX"
   },
   "outputs": [],
   "source": [
    "bank_list = [61, 39, 9, 28, 16]\n",
    "\n",
    "for i in bank_list:\n",
    "    idx = train[train['bank_id'].isin([i])]['bank_id'].index\n",
    "    idx2 = test[test['bank_id'].isin([i])]['bank_id'].index\n",
    "    train.loc[idx,'bank_rank'] = 1\n",
    "    test.loc[idx2,'bank_rank'] = 1"
   ]
  },
  {
   "cell_type": "markdown",
   "metadata": {
    "id": "7YDbAZjSblUn"
   },
   "source": [
    "## train_event 생성"
   ]
  },
  {
   "cell_type": "markdown",
   "metadata": {
    "id": "LrTDhgGliT-w"
   },
   "source": [
    "log_data의 event칼럼의 행동명들의 횟수를 칼럼으로 변환"
   ]
  },
  {
   "cell_type": "code",
   "execution_count": 16,
   "metadata": {
    "id": "Zf0F8XA1T3bf"
   },
   "outputs": [],
   "source": [
    "df = log_data[['user_id','event']].value_counts().to_frame()"
   ]
  },
  {
   "cell_type": "code",
   "execution_count": 17,
   "metadata": {
    "id": "jhXV4qqHZsBD"
   },
   "outputs": [],
   "source": [
    "df.reset_index(inplace=True)"
   ]
  },
  {
   "cell_type": "code",
   "execution_count": 18,
   "metadata": {
    "id": "jAXaueqdaM6Y"
   },
   "outputs": [],
   "source": [
    "df.rename(columns = {0: 'count'}, inplace=True)"
   ]
  },
  {
   "cell_type": "code",
   "execution_count": 19,
   "metadata": {
    "id": "I9LjnZ9YCZw1"
   },
   "outputs": [],
   "source": [
    "event = ['SignUp','OpenApp','Login','ViewLoanApplyIntro','StartLoanApply','CompleteIDCertification',\n",
    "         'EndLoanApply','UseLoanManage','UsePrepayCalc','UseDSRCalc','GetCreditInfo']\n",
    "\n",
    "for i in event:\n",
    "    df_new = df[df['event']==i]\n",
    "    df_new.drop(['event'], axis= 1, inplace=True)\n",
    "    train = pd.merge(train,df_new, how = 'outer') \n",
    "    train.rename(columns = {\"count\": i}, inplace = True)"
   ]
  },
  {
   "cell_type": "code",
   "execution_count": 20,
   "metadata": {
    "id": "UlLHpQ-162rv"
   },
   "outputs": [],
   "source": [
    "for i in event:\n",
    "    df_new = df[df['event']==i]\n",
    "    df_new.drop(['event'], axis= 1, inplace=True)\n",
    "    test = pd.merge(test,df_new, how = 'outer') \n",
    "    test.rename(columns = {\"count\": i}, inplace = True)"
   ]
  },
  {
   "cell_type": "code",
   "execution_count": 21,
   "metadata": {
    "id": "asaHGARzGC0A"
   },
   "outputs": [],
   "source": [
    "train.dropna(axis=0, subset=['application_id'], inplace= True)"
   ]
  },
  {
   "cell_type": "code",
   "execution_count": 22,
   "metadata": {
    "id": "VYpPYOZH7WAl"
   },
   "outputs": [],
   "source": [
    "test.dropna(axis=0, subset=['application_id'], inplace= True)"
   ]
  },
  {
   "cell_type": "code",
   "execution_count": 23,
   "metadata": {
    "id": "X9LqEPANGgOJ"
   },
   "outputs": [],
   "source": [
    "for i in event:\n",
    "    train[i].fillna(0, inplace=True)\n",
    "    test[i].fillna(0, inplace=True)"
   ]
  },
  {
   "cell_type": "markdown",
   "metadata": {
    "id": "uL7Tj5s-mNyJ"
   },
   "source": [
    "## 불필요한 칼럼 삭제"
   ]
  },
  {
   "cell_type": "markdown",
   "metadata": {
    "id": "feKH_zLCFJqH"
   },
   "source": [
    "모델링에 불필요하다고 판단되는 칼럼 drop  \n",
    "company_enter_month칼럼은 데이터의 신뢰성이 낮아 제거"
   ]
  },
  {
   "cell_type": "code",
   "execution_count": 24,
   "metadata": {
    "id": "czfbHUAbmSDU"
   },
   "outputs": [],
   "source": [
    "train.drop(['SignUp','OpenApp','ViewLoanApplyIntro','StartLoanApply','CompleteIDCertification',\n",
    "            'insert_time', 'loanapply_insert_time','company_enter_month','gender','personal_rehabilitation_complete_yn',\n",
    "            'personal_rehabilitation_yn'], axis= 1, inplace=True)"
   ]
  },
  {
   "cell_type": "code",
   "execution_count": 25,
   "metadata": {
    "id": "tlRP8u9DmSK6"
   },
   "outputs": [],
   "source": [
    "test.drop(['SignUp','OpenApp','ViewLoanApplyIntro','StartLoanApply','CompleteIDCertification',\n",
    "            'insert_time', 'loanapply_insert_time','company_enter_month','gender','personal_rehabilitation_complete_yn',\n",
    "            'personal_rehabilitation_yn'], axis= 1, inplace=True)"
   ]
  },
  {
   "cell_type": "markdown",
   "metadata": {
    "id": "XhfFuDaH3Sqa"
   },
   "source": [
    "## 이상치 처리"
   ]
  },
  {
   "cell_type": "markdown",
   "metadata": {
    "id": "otEyPzxs17-O"
   },
   "source": [
    "loan_limit칼럼의 비정상적인 값 제거"
   ]
  },
  {
   "cell_type": "code",
   "execution_count": 26,
   "metadata": {
    "id": "9Gv-QAme0FtM"
   },
   "outputs": [],
   "source": [
    "# 승인 한도가 99억 이상인 값 제거\n",
    "idx = train[train['loan_limit']>9900000000].index"
   ]
  },
  {
   "cell_type": "code",
   "execution_count": 27,
   "metadata": {
    "id": "EhgBvyCJ0OA6"
   },
   "outputs": [],
   "source": [
    "train.drop(idx, axis=0, inplace=True)"
   ]
  },
  {
   "cell_type": "code",
   "execution_count": 28,
   "metadata": {
    "id": "tNioT8Es1PMx"
   },
   "outputs": [],
   "source": [
    "train.reset_index(drop=True, inplace =True)"
   ]
  },
  {
   "cell_type": "markdown",
   "metadata": {
    "id": "yRYoGcU4KSyd"
   },
   "source": [
    "IQR 기준 이상치 제거"
   ]
  },
  {
   "cell_type": "code",
   "execution_count": 29,
   "metadata": {
    "id": "6y_fMLlF-zGG"
   },
   "outputs": [],
   "source": [
    "def get_outlier(df=None, column=None, weight=1.5):\n",
    "  quantile_25 = np.percentile(df[column].values, 25)\n",
    "  quantile_75 = np.percentile(df[column].values, 75)\n",
    "\n",
    "  IQR = quantile_75 - quantile_25\n",
    "  IQR_weight = IQR*weight\n",
    "  \n",
    "  lowest = quantile_25 - IQR_weight\n",
    "  highest = quantile_75 + IQR_weight\n",
    "  \n",
    "  outlier_idx = df[column][ (df[column] < lowest) | (df[column] > highest) ].index\n",
    "  return outlier_idx\n",
    "\n",
    "# 함수 사용해서 이상치 값 삭제\n",
    "outlier_list = ['yearly_income','desired_amount','loan_limit','Login','EndLoanApply','UseLoanManage','UsePrepayCalc','UseDSRCalc','GetCreditInfo']\n",
    "\n",
    "for i in outlier_list:\n",
    "    oulier_idx = get_outlier(df=train, column=i, weight=1.5)\n",
    "    train.drop(oulier_idx, axis=0, inplace=True)"
   ]
  },
  {
   "cell_type": "code",
   "execution_count": 30,
   "metadata": {
    "id": "yYsLTwy7RrO2"
   },
   "outputs": [],
   "source": [
    "train.reset_index(drop=True, inplace =True)"
   ]
  },
  {
   "cell_type": "code",
   "execution_count": 31,
   "metadata": {
    "id": "eErXQbUE-YXf"
   },
   "outputs": [],
   "source": [
    "test.reset_index(drop=True, inplace =True)"
   ]
  },
  {
   "cell_type": "markdown",
   "metadata": {
    "id": "N1F4Ol9xUUQ_"
   },
   "source": [
    "## 생년월일 -> 나이로 변환"
   ]
  },
  {
   "cell_type": "markdown",
   "metadata": {
    "id": "Gmv69yfiGaPp"
   },
   "source": [
    "현재 2022년을 기준으로 나이 변환"
   ]
  },
  {
   "cell_type": "code",
   "execution_count": 32,
   "metadata": {
    "id": "YCwFcSHSUWR9"
   },
   "outputs": [],
   "source": [
    "train['age'] = 2022 - train['birth_year'] + 1\n",
    "train.drop('birth_year', axis = 1, inplace = True)"
   ]
  },
  {
   "cell_type": "code",
   "execution_count": 33,
   "metadata": {
    "id": "YHnsiuh4BBwZ"
   },
   "outputs": [],
   "source": [
    "test['age'] = 2022 - test['birth_year'] + 1\n",
    "test.drop('birth_year', axis = 1, inplace = True)"
   ]
  },
  {
   "cell_type": "markdown",
   "metadata": {
    "id": "89R435pgZchq"
   },
   "source": [
    "## admission_count 파생변수 생성"
   ]
  },
  {
   "cell_type": "markdown",
   "metadata": {
    "id": "nAG2qNVmGds3"
   },
   "source": [
    "특정 application_id의 개수가 곧 product_id의 개수(승인된 상품 개수)이므로   \n",
    "application_id 개수를 기준으로 승인된 상품 개수를 센 후 admission_count 변수 생성"
   ]
  },
  {
   "cell_type": "code",
   "execution_count": 34,
   "metadata": {
    "id": "BR2reaeZmr5Q"
   },
   "outputs": [],
   "source": [
    "train.reset_index(drop=True, inplace=True)\n",
    "test.reset_index(drop=True, inplace=True)"
   ]
  },
  {
   "cell_type": "code",
   "execution_count": 35,
   "metadata": {
    "id": "qRad4fIrqHm5"
   },
   "outputs": [],
   "source": [
    "train_sort = train.sort_values('application_id')\n",
    "test_sort = test.sort_values('application_id')"
   ]
  },
  {
   "cell_type": "code",
   "execution_count": 36,
   "metadata": {
    "id": "L8rZ5MUTk-nH"
   },
   "outputs": [],
   "source": [
    "admission_count_train = pd.DataFrame(train['application_id'].value_counts().sort_index())\n",
    "admission_count_test = pd.DataFrame(test['application_id'].value_counts().sort_index())"
   ]
  },
  {
   "cell_type": "code",
   "execution_count": 37,
   "metadata": {
    "id": "MYPXtUg2rnfW"
   },
   "outputs": [],
   "source": [
    "admission_count_train.columns = ['admission_count']\n",
    "admission_count_test.columns = ['admission_count']"
   ]
  },
  {
   "cell_type": "code",
   "execution_count": 38,
   "metadata": {
    "id": "0z7q_fvur3zv"
   },
   "outputs": [],
   "source": [
    "admission_count_train.index.name = 'application_id'\n",
    "admission_count_test.index.name = 'application_id'"
   ]
  },
  {
   "cell_type": "code",
   "execution_count": 39,
   "metadata": {
    "id": "TRc5c0N8BKU-"
   },
   "outputs": [],
   "source": [
    "admission_count_train = admission_count_train.reset_index()\n",
    "admission_count_test = admission_count_test.reset_index()"
   ]
  },
  {
   "cell_type": "code",
   "execution_count": 40,
   "metadata": {
    "id": "ExUGvNdZtE2p"
   },
   "outputs": [],
   "source": [
    "train = pd.merge(train_sort, admission_count_train)\n",
    "test = pd.merge(test_sort, admission_count_test)"
   ]
  },
  {
   "cell_type": "markdown",
   "metadata": {
    "id": "PuBjWpV5UlJj"
   },
   "source": [
    "## 인코딩"
   ]
  },
  {
   "cell_type": "markdown",
   "metadata": {
    "id": "xZrZ8lUTHCvu"
   },
   "source": [
    "범주형 변수들 LabelEncoding"
   ]
  },
  {
   "cell_type": "code",
   "execution_count": 41,
   "metadata": {
    "id": "zx-NIpQrUjBI"
   },
   "outputs": [],
   "source": [
    "features = ['income_type', 'employment_type', 'houseown_type', 'purpose']\n",
    "\n",
    "for o_col in features:\n",
    "    encoder = LabelEncoder()\n",
    "    encoder.fit(train[o_col])\n",
    "    train_encoded = encoder.transform(train[o_col])\n",
    "    test_encoded = encoder.transform(test[o_col])\n",
    "\n",
    "    train[o_col] = train_encoded\n",
    "    test[o_col] = test_encoded"
   ]
  },
  {
   "cell_type": "markdown",
   "metadata": {
    "id": "p6ayHcO0ggIJ"
   },
   "source": [
    "## 스케일링"
   ]
  },
  {
   "cell_type": "code",
   "execution_count": 42,
   "metadata": {
    "id": "WgR9iqD6ghWR"
   },
   "outputs": [],
   "source": [
    "# 범위가 큰 값 로그변환\n",
    "# 이를 통해 이상치 문제 또한 완화할 수 있음\n",
    "scale_columns = ['credit_score','yearly_income','desired_amount','existing_loan_amt','loan_limit',\n",
    "                 'Login','EndLoanApply','UseLoanManage','UsePrepayCalc','UseDSRCalc','GetCreditInfo']\n",
    "\n",
    "for i in scale_columns:\n",
    "    train[i] = np.log1p(train[i])"
   ]
  },
  {
   "cell_type": "code",
   "execution_count": 43,
   "metadata": {
    "id": "ENV8mX3pCOGF"
   },
   "outputs": [],
   "source": [
    "for i in scale_columns:\n",
    "    test[i] = np.log1p(test[i])"
   ]
  },
  {
   "cell_type": "markdown",
   "metadata": {
    "id": "LN3PFjZe2qkR"
   },
   "source": [
    "## 결측치 처리"
   ]
  },
  {
   "cell_type": "code",
   "execution_count": 44,
   "metadata": {
    "id": "3_4mm9ioLHuX"
   },
   "outputs": [],
   "source": [
    "# 결측치 확인 함수\n",
    "def check_missing_col(dataframe):\n",
    "    missing_col = []\n",
    "    counted_missing_col = 0\n",
    "    for i,col in enumerate(dataframe.columns):\n",
    "        missing_values = sum(dataframe[col].isna())\n",
    "        is_missing = True if missing_values >= 1 else False\n",
    "        if is_missing:\n",
    "            counted_missing_col +=1\n",
    "            print('결측치가 있는 칼럼은: %s 입니다.'%col)\n",
    "            print('해당 칼럼에 총 %s개의 결측치가 존재합니다. '%missing_values)\n",
    "            missing_col.append([col, dataframe[col].dtype])\n",
    "    if counted_missing_col == 0:\n",
    "        print('결측치가 존재하지 않습니다.')\n",
    "    return missing_col"
   ]
  },
  {
   "cell_type": "code",
   "execution_count": 45,
   "metadata": {
    "colab": {
     "base_uri": "https://localhost:8080/",
     "height": 0
    },
    "id": "iUg05gwYR1_Q",
    "outputId": "4d0ae425-c189-4a4e-cab7-ee1be77f4476"
   },
   "outputs": [
    {
     "name": "stdout",
     "output_type": "stream",
     "text": [
      "결측치가 있는 칼럼은: credit_score 입니다.\n",
      "해당 칼럼에 총 1023104개의 결측치가 존재합니다. \n",
      "결측치가 있는 칼럼은: existing_loan_cnt 입니다.\n",
      "해당 칼럼에 총 1707913개의 결측치가 존재합니다. \n",
      "결측치가 있는 칼럼은: existing_loan_amt 입니다.\n",
      "해당 칼럼에 총 2224116개의 결측치가 존재합니다. \n",
      "결측치가 있는 칼럼은: loan_limit 입니다.\n",
      "해당 칼럼에 총 3793개의 결측치가 존재합니다. \n",
      "결측치가 있는 칼럼은: loan_rate 입니다.\n",
      "해당 칼럼에 총 3793개의 결측치가 존재합니다. \n",
      "결측치가 있는 칼럼은: age 입니다.\n",
      "해당 칼럼에 총 70142개의 결측치가 존재합니다. \n"
     ]
    }
   ],
   "source": [
    "missing_col = check_missing_col(train)"
   ]
  },
  {
   "cell_type": "code",
   "execution_count": 46,
   "metadata": {
    "colab": {
     "base_uri": "https://localhost:8080/",
     "height": 0
    },
    "id": "pR8uFDmbNj62",
    "outputId": "b88ccb62-807e-4ca7-8318-20a388fe8cc3"
   },
   "outputs": [
    {
     "name": "stdout",
     "output_type": "stream",
     "text": [
      "결측치가 있는 칼럼은: credit_score 입니다.\n",
      "해당 칼럼에 총 265464개의 결측치가 존재합니다. \n",
      "결측치가 있는 칼럼은: yearly_income 입니다.\n",
      "해당 칼럼에 총 6개의 결측치가 존재합니다. \n",
      "결측치가 있는 칼럼은: existing_loan_cnt 입니다.\n",
      "해당 칼럼에 총 541898개의 결측치가 존재합니다. \n",
      "결측치가 있는 칼럼은: existing_loan_amt 입니다.\n",
      "해당 칼럼에 총 846023개의 결측치가 존재합니다. \n",
      "결측치가 있는 칼럼은: loan_limit 입니다.\n",
      "해당 칼럼에 총 1757개의 결측치가 존재합니다. \n",
      "결측치가 있는 칼럼은: loan_rate 입니다.\n",
      "해당 칼럼에 총 1757개의 결측치가 존재합니다. \n",
      "결측치가 있는 칼럼은: age 입니다.\n",
      "해당 칼럼에 총 36470개의 결측치가 존재합니다. \n"
     ]
    }
   ],
   "source": [
    "missing_col = check_missing_col(test)"
   ]
  },
  {
   "cell_type": "markdown",
   "metadata": {
    "id": "zfnui_ufUEcW"
   },
   "source": [
    "existing_loan_cnt : 0이 없기 때문에 기대출이 없다고 판단하여 0으로 채워줌\n"
   ]
  },
  {
   "cell_type": "code",
   "execution_count": 47,
   "metadata": {
    "id": "O2xyan2iUHzY"
   },
   "outputs": [],
   "source": [
    "train['existing_loan_cnt'].fillna(0, inplace= True)"
   ]
  },
  {
   "cell_type": "code",
   "execution_count": 48,
   "metadata": {
    "id": "ZUyhoNiSFuks"
   },
   "outputs": [],
   "source": [
    "test['existing_loan_cnt'].fillna(0, inplace= True)"
   ]
  },
  {
   "cell_type": "markdown",
   "metadata": {
    "id": "vkRQFFMmV28O"
   },
   "source": [
    "existing_loan_amt : 기대출수가 결측치이면 기대출금액도 결측치이기 때문에 0으로 채움, 나머지 900292개의 결측치는 IterativeImputer를 이용해 채움\n"
   ]
  },
  {
   "cell_type": "code",
   "execution_count": 49,
   "metadata": {
    "id": "UX7cWMhcUH3E"
   },
   "outputs": [],
   "source": [
    "idx2 = train[train['existing_loan_cnt']==0].index\n",
    "train.loc[idx2,'existing_loan_amt'] = 0"
   ]
  },
  {
   "cell_type": "code",
   "execution_count": 50,
   "metadata": {
    "id": "t0KWqzmWFxel"
   },
   "outputs": [],
   "source": [
    "idx2 = test[test['existing_loan_cnt']==0].index\n",
    "test.loc[idx2,'existing_loan_amt'] = 0"
   ]
  },
  {
   "cell_type": "markdown",
   "metadata": {
    "id": "M-MERlrVGQL_"
   },
   "source": [
    "loan_rate, loan_limit 컬럼에 결측치(nan)가 있는 경우는 금융사에서 값을 보내주지 않은 경우로,  해당 경우는 채점에서 제외할 예정이니 제거\n",
    "\n"
   ]
  },
  {
   "cell_type": "code",
   "execution_count": 51,
   "metadata": {
    "id": "8Azhkp3wgN8P"
   },
   "outputs": [],
   "source": [
    "train.dropna(subset=['loan_limit'], axis=0, inplace=True)\n",
    "train.dropna(subset=['loan_rate'], axis=0, inplace=True)"
   ]
  },
  {
   "cell_type": "code",
   "execution_count": 52,
   "metadata": {
    "id": "1Ia7zKQfgjYr"
   },
   "outputs": [],
   "source": [
    "test.dropna(subset=['loan_limit'], axis=0, inplace=True)\n",
    "test.dropna(subset=['loan_rate'], axis=0, inplace=True)"
   ]
  },
  {
   "cell_type": "code",
   "execution_count": 53,
   "metadata": {
    "id": "O0wZjvOpYzNt"
   },
   "outputs": [],
   "source": [
    "train.reset_index(drop=True, inplace =True)"
   ]
  },
  {
   "cell_type": "code",
   "execution_count": 54,
   "metadata": {
    "id": "QWnVwoDlY4EB"
   },
   "outputs": [],
   "source": [
    "test.reset_index(drop=True, inplace =True)"
   ]
  },
  {
   "cell_type": "markdown",
   "metadata": {
    "id": "SEUdHuHEY6g5"
   },
   "source": [
    "결측치 채운 후 남은 결측치 확인"
   ]
  },
  {
   "cell_type": "code",
   "execution_count": 55,
   "metadata": {
    "colab": {
     "base_uri": "https://localhost:8080/",
     "height": 0
    },
    "id": "n8GACAkwfmPk",
    "outputId": "28d36697-9107-4ad4-c328-1e3a8454ac35"
   },
   "outputs": [
    {
     "name": "stdout",
     "output_type": "stream",
     "text": [
      "결측치가 있는 칼럼은: credit_score 입니다.\n",
      "해당 칼럼에 총 1022646개의 결측치가 존재합니다. \n",
      "결측치가 있는 칼럼은: existing_loan_amt 입니다.\n",
      "해당 칼럼에 총 516004개의 결측치가 존재합니다. \n",
      "결측치가 있는 칼럼은: age 입니다.\n",
      "해당 칼럼에 총 70103개의 결측치가 존재합니다. \n"
     ]
    }
   ],
   "source": [
    "missing_col = check_missing_col(train)"
   ]
  },
  {
   "cell_type": "code",
   "execution_count": 56,
   "metadata": {
    "colab": {
     "base_uri": "https://localhost:8080/",
     "height": 0
    },
    "id": "Ue7C7P1heCbB",
    "outputId": "5d6e54a6-a9b7-455f-cb8c-b71c0180b8d2"
   },
   "outputs": [
    {
     "name": "stdout",
     "output_type": "stream",
     "text": [
      "결측치가 있는 칼럼은: credit_score 입니다.\n",
      "해당 칼럼에 총 265321개의 결측치가 존재합니다. \n",
      "결측치가 있는 칼럼은: yearly_income 입니다.\n",
      "해당 칼럼에 총 6개의 결측치가 존재합니다. \n",
      "결측치가 있는 칼럼은: existing_loan_amt 입니다.\n",
      "해당 칼럼에 총 304033개의 결측치가 존재합니다. \n",
      "결측치가 있는 칼럼은: age 입니다.\n",
      "해당 칼럼에 총 36453개의 결측치가 존재합니다. \n"
     ]
    }
   ],
   "source": [
    "missing_col = check_missing_col(test)"
   ]
  },
  {
   "cell_type": "markdown",
   "metadata": {
    "id": "CeiO9atVTfvF"
   },
   "source": [
    "## aplication_id, product_id 중복 제거"
   ]
  },
  {
   "cell_type": "markdown",
   "metadata": {
    "id": "A5zcxGKoY-xf"
   },
   "source": [
    "제출용 평가데이터에서 application_id와 product_id가 중복된 값을 제거하였으므로 동일하게 test데이터에서 제거"
   ]
  },
  {
   "cell_type": "code",
   "execution_count": 57,
   "metadata": {
    "colab": {
     "base_uri": "https://localhost:8080/",
     "height": 424
    },
    "id": "k5nwvPZLTjaP",
    "outputId": "c4e48af0-84a6-4c89-8edf-7f2989d08762"
   },
   "outputs": [
    {
     "data": {
      "text/html": [
       "\n",
       "  <div id=\"df-ef4a4c68-d2dc-4c0f-a535-3f236a5dacb2\">\n",
       "    <div class=\"colab-df-container\">\n",
       "      <div>\n",
       "<style scoped>\n",
       "    .dataframe tbody tr th:only-of-type {\n",
       "        vertical-align: middle;\n",
       "    }\n",
       "\n",
       "    .dataframe tbody tr th {\n",
       "        vertical-align: top;\n",
       "    }\n",
       "\n",
       "    .dataframe thead th {\n",
       "        text-align: right;\n",
       "    }\n",
       "</style>\n",
       "<table border=\"1\" class=\"dataframe\">\n",
       "  <thead>\n",
       "    <tr style=\"text-align: right;\">\n",
       "      <th></th>\n",
       "      <th>application_id</th>\n",
       "      <th>product_id</th>\n",
       "    </tr>\n",
       "  </thead>\n",
       "  <tbody>\n",
       "    <tr>\n",
       "      <th>1824</th>\n",
       "      <td>1561.00000</td>\n",
       "      <td>51.00000</td>\n",
       "    </tr>\n",
       "    <tr>\n",
       "      <th>1827</th>\n",
       "      <td>1561.00000</td>\n",
       "      <td>51.00000</td>\n",
       "    </tr>\n",
       "    <tr>\n",
       "      <th>2697</th>\n",
       "      <td>2407.00000</td>\n",
       "      <td>51.00000</td>\n",
       "    </tr>\n",
       "    <tr>\n",
       "      <th>2698</th>\n",
       "      <td>2407.00000</td>\n",
       "      <td>51.00000</td>\n",
       "    </tr>\n",
       "    <tr>\n",
       "      <th>27917</th>\n",
       "      <td>19876.00000</td>\n",
       "      <td>267.00000</td>\n",
       "    </tr>\n",
       "    <tr>\n",
       "      <th>...</th>\n",
       "      <td>...</td>\n",
       "      <td>...</td>\n",
       "    </tr>\n",
       "    <tr>\n",
       "      <th>3234267</th>\n",
       "      <td>2153509.00000</td>\n",
       "      <td>51.00000</td>\n",
       "    </tr>\n",
       "    <tr>\n",
       "      <th>3245577</th>\n",
       "      <td>2160853.00000</td>\n",
       "      <td>65.00000</td>\n",
       "    </tr>\n",
       "    <tr>\n",
       "      <th>3245580</th>\n",
       "      <td>2160853.00000</td>\n",
       "      <td>65.00000</td>\n",
       "    </tr>\n",
       "    <tr>\n",
       "      <th>3249787</th>\n",
       "      <td>2163982.00000</td>\n",
       "      <td>168.00000</td>\n",
       "    </tr>\n",
       "    <tr>\n",
       "      <th>3249789</th>\n",
       "      <td>2163982.00000</td>\n",
       "      <td>168.00000</td>\n",
       "    </tr>\n",
       "  </tbody>\n",
       "</table>\n",
       "<p>288 rows × 2 columns</p>\n",
       "</div>\n",
       "      <button class=\"colab-df-convert\" onclick=\"convertToInteractive('df-ef4a4c68-d2dc-4c0f-a535-3f236a5dacb2')\"\n",
       "              title=\"Convert this dataframe to an interactive table.\"\n",
       "              style=\"display:none;\">\n",
       "        \n",
       "  <svg xmlns=\"http://www.w3.org/2000/svg\" height=\"24px\"viewBox=\"0 0 24 24\"\n",
       "       width=\"24px\">\n",
       "    <path d=\"M0 0h24v24H0V0z\" fill=\"none\"/>\n",
       "    <path d=\"M18.56 5.44l.94 2.06.94-2.06 2.06-.94-2.06-.94-.94-2.06-.94 2.06-2.06.94zm-11 1L8.5 8.5l.94-2.06 2.06-.94-2.06-.94L8.5 2.5l-.94 2.06-2.06.94zm10 10l.94 2.06.94-2.06 2.06-.94-2.06-.94-.94-2.06-.94 2.06-2.06.94z\"/><path d=\"M17.41 7.96l-1.37-1.37c-.4-.4-.92-.59-1.43-.59-.52 0-1.04.2-1.43.59L10.3 9.45l-7.72 7.72c-.78.78-.78 2.05 0 2.83L4 21.41c.39.39.9.59 1.41.59.51 0 1.02-.2 1.41-.59l7.78-7.78 2.81-2.81c.8-.78.8-2.07 0-2.86zM5.41 20L4 18.59l7.72-7.72 1.47 1.35L5.41 20z\"/>\n",
       "  </svg>\n",
       "      </button>\n",
       "      \n",
       "  <style>\n",
       "    .colab-df-container {\n",
       "      display:flex;\n",
       "      flex-wrap:wrap;\n",
       "      gap: 12px;\n",
       "    }\n",
       "\n",
       "    .colab-df-convert {\n",
       "      background-color: #E8F0FE;\n",
       "      border: none;\n",
       "      border-radius: 50%;\n",
       "      cursor: pointer;\n",
       "      display: none;\n",
       "      fill: #1967D2;\n",
       "      height: 32px;\n",
       "      padding: 0 0 0 0;\n",
       "      width: 32px;\n",
       "    }\n",
       "\n",
       "    .colab-df-convert:hover {\n",
       "      background-color: #E2EBFA;\n",
       "      box-shadow: 0px 1px 2px rgba(60, 64, 67, 0.3), 0px 1px 3px 1px rgba(60, 64, 67, 0.15);\n",
       "      fill: #174EA6;\n",
       "    }\n",
       "\n",
       "    [theme=dark] .colab-df-convert {\n",
       "      background-color: #3B4455;\n",
       "      fill: #D2E3FC;\n",
       "    }\n",
       "\n",
       "    [theme=dark] .colab-df-convert:hover {\n",
       "      background-color: #434B5C;\n",
       "      box-shadow: 0px 1px 3px 1px rgba(0, 0, 0, 0.15);\n",
       "      filter: drop-shadow(0px 1px 2px rgba(0, 0, 0, 0.3));\n",
       "      fill: #FFFFFF;\n",
       "    }\n",
       "  </style>\n",
       "\n",
       "      <script>\n",
       "        const buttonEl =\n",
       "          document.querySelector('#df-ef4a4c68-d2dc-4c0f-a535-3f236a5dacb2 button.colab-df-convert');\n",
       "        buttonEl.style.display =\n",
       "          google.colab.kernel.accessAllowed ? 'block' : 'none';\n",
       "\n",
       "        async function convertToInteractive(key) {\n",
       "          const element = document.querySelector('#df-ef4a4c68-d2dc-4c0f-a535-3f236a5dacb2');\n",
       "          const dataTable =\n",
       "            await google.colab.kernel.invokeFunction('convertToInteractive',\n",
       "                                                     [key], {});\n",
       "          if (!dataTable) return;\n",
       "\n",
       "          const docLinkHtml = 'Like what you see? Visit the ' +\n",
       "            '<a target=\"_blank\" href=https://colab.research.google.com/notebooks/data_table.ipynb>data table notebook</a>'\n",
       "            + ' to learn more about interactive tables.';\n",
       "          element.innerHTML = '';\n",
       "          dataTable['output_type'] = 'display_data';\n",
       "          await google.colab.output.renderOutput(dataTable, element);\n",
       "          const docLink = document.createElement('div');\n",
       "          docLink.innerHTML = docLinkHtml;\n",
       "          element.appendChild(docLink);\n",
       "        }\n",
       "      </script>\n",
       "    </div>\n",
       "  </div>\n",
       "  "
      ],
      "text/plain": [
       "         application_id  product_id\n",
       "1824         1561.00000    51.00000\n",
       "1827         1561.00000    51.00000\n",
       "2697         2407.00000    51.00000\n",
       "2698         2407.00000    51.00000\n",
       "27917       19876.00000   267.00000\n",
       "...                 ...         ...\n",
       "3234267   2153509.00000    51.00000\n",
       "3245577   2160853.00000    65.00000\n",
       "3245580   2160853.00000    65.00000\n",
       "3249787   2163982.00000   168.00000\n",
       "3249789   2163982.00000   168.00000\n",
       "\n",
       "[288 rows x 2 columns]"
      ]
     },
     "execution_count": 57,
     "metadata": {},
     "output_type": "execute_result"
    }
   ],
   "source": [
    "test[test.duplicated(['application_id','product_id'],keep=False)][['application_id','product_id']].sort_values(['application_id'])"
   ]
  },
  {
   "cell_type": "code",
   "execution_count": 58,
   "metadata": {
    "id": "q1Iwe-HLTjfC"
   },
   "outputs": [],
   "source": [
    "test = test.drop_duplicates(['application_id','product_id'], keep=False)"
   ]
  },
  {
   "cell_type": "markdown",
   "metadata": {
    "id": "35o5-F8pXjGG"
   },
   "source": [
    "## IterativeImputer를 이용해 결측치 채우기"
   ]
  },
  {
   "cell_type": "markdown",
   "metadata": {
    "id": "7GAhxMLwk-6k"
   },
   "source": [
    "credit_score 결측치 채우기"
   ]
  },
  {
   "cell_type": "code",
   "execution_count": 59,
   "metadata": {
    "id": "VbIfHm0vtgdR"
   },
   "outputs": [],
   "source": [
    "# credit score랑 상관계수가 0.2 이상인 변수들 선택\n",
    "train_miss = train[['desired_amount', 'existing_loan_cnt', 'loan_limit', 'loan_rate', 'admission_count', 'credit_score']]\n",
    "test_miss = test[['desired_amount', 'existing_loan_cnt', 'loan_limit', 'loan_rate', 'admission_count', 'credit_score']]"
   ]
  },
  {
   "cell_type": "code",
   "execution_count": 60,
   "metadata": {
    "id": "4lFfh4SdaIxS"
   },
   "outputs": [],
   "source": [
    "from sklearn.experimental import enable_iterative_imputer\n",
    "from sklearn.impute import IterativeImputer\n",
    "\n",
    "imputer = IterativeImputer(random_state=42)\n",
    "\n",
    "train_trans = imputer.fit_transform(train_miss)\n",
    "train_miss = pd.DataFrame(train_trans, columns=train_miss.columns)"
   ]
  },
  {
   "cell_type": "code",
   "execution_count": 61,
   "metadata": {
    "id": "cEbabeiGMnnV"
   },
   "outputs": [],
   "source": [
    "imputer = IterativeImputer(random_state=42)\n",
    "\n",
    "test_miss_copy = test_miss.copy()\n",
    "imputer.fit(train_miss)   \n",
    "test_trans = imputer.transform(test_miss)\n",
    "test_miss = pd.DataFrame(test_trans, columns=test_miss_copy.columns)"
   ]
  },
  {
   "cell_type": "code",
   "execution_count": 62,
   "metadata": {
    "id": "VFQg6XqDfHCh"
   },
   "outputs": [],
   "source": [
    "train['credit_score']=train_miss['credit_score']\n",
    "test['credit_score']=test_miss['credit_score']"
   ]
  },
  {
   "cell_type": "markdown",
   "metadata": {
    "id": "uU8GN1E8lJT_"
   },
   "source": [
    "train의 나머지 결측치 행 제거"
   ]
  },
  {
   "cell_type": "code",
   "execution_count": 64,
   "metadata": {
    "id": "FvVNj3ZCWSlv"
   },
   "outputs": [],
   "source": [
    "train.dropna(axis = 0, inplace = True)"
   ]
  },
  {
   "cell_type": "code",
   "execution_count": 65,
   "metadata": {
    "id": "YfksO8SqZDBt"
   },
   "outputs": [],
   "source": [
    "train.reset_index(drop=True, inplace=True)"
   ]
  },
  {
   "cell_type": "markdown",
   "metadata": {
    "id": "NnZbZ9z7lEAH"
   },
   "source": [
    "test의 나머지 결측치 imputer를 이용해 채움"
   ]
  },
  {
   "cell_type": "code",
   "execution_count": 66,
   "metadata": {
    "colab": {
     "base_uri": "https://localhost:8080/",
     "height": 0
    },
    "id": "frlUF1f_807C",
    "outputId": "bce75e7d-a85f-4457-daf0-8e6c0da15cb2"
   },
   "outputs": [
    {
     "name": "stdout",
     "output_type": "stream",
     "text": [
      "결측치가 있는 칼럼은: credit_score 입니다.\n",
      "해당 칼럼에 총 288개의 결측치가 존재합니다. \n",
      "결측치가 있는 칼럼은: yearly_income 입니다.\n",
      "해당 칼럼에 총 6개의 결측치가 존재합니다. \n",
      "결측치가 있는 칼럼은: existing_loan_amt 입니다.\n",
      "해당 칼럼에 총 304019개의 결측치가 존재합니다. \n",
      "결측치가 있는 칼럼은: age 입니다.\n",
      "해당 칼럼에 총 36453개의 결측치가 존재합니다. \n"
     ]
    }
   ],
   "source": [
    "missing_col = check_missing_col(test)"
   ]
  },
  {
   "cell_type": "code",
   "execution_count": 67,
   "metadata": {
    "id": "bt03fRVfSqr4"
   },
   "outputs": [],
   "source": [
    "imputer = IterativeImputer(random_state=42)\n",
    "\n",
    "test_columns = test.columns\n",
    "imputer.fit(train.drop(['is_applied'], axis=1))  \n",
    "test = pd.DataFrame(imputer.transform(test), columns= test_columns)"
   ]
  },
  {
   "cell_type": "markdown",
   "metadata": {
    "id": "qk_WtONbCFY0"
   },
   "source": [
    "## credit_loan_rate 파생변수 생성"
   ]
  },
  {
   "cell_type": "markdown",
   "metadata": {
    "id": "mnFUZ6BLHxLe"
   },
   "source": [
    "여신금융협회에서 신용점수 별 대출금리의 평균을 구한 뒤 각 신용점수 구간에 해당하는 loan_rate와 비교하여 loan_rate가 더 높을 경우 0, 낮을 경우 1의 값을 할당"
   ]
  },
  {
   "cell_type": "code",
   "execution_count": 68,
   "metadata": {
    "id": "04GXm2x-CHxH"
   },
   "outputs": [],
   "source": [
    "train['credit_loan_rate']= 1\n",
    "test['credit_loan_rate']= 1"
   ]
  },
  {
   "cell_type": "code",
   "execution_count": 69,
   "metadata": {
    "id": "WRnmHu3ACQuc"
   },
   "outputs": [],
   "source": [
    "score300 = (16.99+18.45)/2\n",
    "score400 = 19.9\n",
    "score500 = (19.18+19.9+19.9)/3\n",
    "score600 = (19.9+14.37+18.27+15.78+17.9+17.57+14.65+19.13+10.9+18.5+16.86+18.79)/12\n",
    "score700 = (19.59+14.29+16.71+14.89+14.53+16.81+14.14+18.74+12.25+18.25+16.12+16.12)/12\n",
    "score800 = (16.18+11.71+13.03+15.57+13.59+13.02+15.58+12.82+17.53+11.65+17.55+14.68+14.26)/13\n",
    "score900 = (13.90+11.87+10.7+14.54+12.69+12.75+13.51+11.83+15.75+10.71+15.53+12.89+12.75)/13\n",
    "score1000 = (12.62+11.26+9.28+13.05+12.22+10.45+11.29+10.60+12.21+10.25+12.92+11.43+11.50)/13"
   ]
  },
  {
   "cell_type": "code",
   "execution_count": 70,
   "metadata": {
    "id": "a9THwcfiCH5D"
   },
   "outputs": [],
   "source": [
    "cond1 = (train['credit_score'] <= 300) & (train['loan_rate'] > score300)\n",
    "cond2 = (train['credit_score'] > 300) & (train['credit_score'] <= 400) & (train['loan_rate'] > score400)\n",
    "cond3 = (train['credit_score'] > 400) & (train['credit_score'] <= 500) & (train['loan_rate'] > score500)\n",
    "cond4 = (train['credit_score'] > 500) & (train['credit_score'] <= 600) & (train['loan_rate'] > score600)\n",
    "cond5 = (train['credit_score'] > 600) & (train['credit_score'] <= 700) & (train['loan_rate'] > score700)\n",
    "cond6 = (train['credit_score'] > 700) & (train['credit_score'] <= 800) & (train['loan_rate'] > score800)\n",
    "cond7 = (train['credit_score'] > 800) & (train['credit_score'] <= 900) & (train['loan_rate'] > score900)\n",
    "cond8 = (train['credit_score'] > 900) & (train['loan_rate'] > score1000)"
   ]
  },
  {
   "cell_type": "code",
   "execution_count": 71,
   "metadata": {
    "id": "L20yQ_ecCH8J"
   },
   "outputs": [],
   "source": [
    "train['credit_loan_rate'] = np.where(cond1,0,np.where(cond2,0,np.where(cond3,0,np.where(cond4,0,np.where(cond5,0,np.where(cond6,0,np.where(cond7,0,np.where(cond8,0,1))))))))"
   ]
  },
  {
   "cell_type": "code",
   "execution_count": 72,
   "metadata": {
    "id": "WT7EjFvPl7XF"
   },
   "outputs": [],
   "source": [
    "cond1 = (test['credit_score'] <= 300) & (test['loan_rate'] > score300)\n",
    "cond2 = (test['credit_score'] > 300) & (test['credit_score'] <= 400) & (test['loan_rate'] > score400)\n",
    "cond3 = (test['credit_score'] > 400) & (test['credit_score'] <= 500) & (test['loan_rate'] > score500)\n",
    "cond4 = (test['credit_score'] > 500) & (test['credit_score'] <= 600) & (test['loan_rate'] > score600)\n",
    "cond5 = (test['credit_score'] > 600) & (test['credit_score'] <= 700) & (test['loan_rate'] > score700)\n",
    "cond6 = (test['credit_score'] > 700) & (test['credit_score'] <= 800) & (test['loan_rate'] > score800)\n",
    "cond7 = (test['credit_score'] > 800) & (test['credit_score'] <= 900) & (test['loan_rate'] > score900)\n",
    "cond8 = (test['credit_score'] > 900) & (test['loan_rate'] > score1000)"
   ]
  },
  {
   "cell_type": "code",
   "execution_count": 73,
   "metadata": {
    "id": "JswT2sA-mEA_"
   },
   "outputs": [],
   "source": [
    "test['credit_loan_rate'] = np.where(cond1,0,np.where(cond2,0,np.where(cond3,0,np.where(cond4,0,np.where(cond5,0,np.where(cond6,0,np.where(cond7,0,np.where(cond8,0,1))))))))"
   ]
  },
  {
   "cell_type": "markdown",
   "metadata": {
    "id": "UoUSt3mqhzop"
   },
   "source": [
    "## age를 범주화하여 age_level 생성"
   ]
  },
  {
   "cell_type": "markdown",
   "metadata": {
    "id": "_f92LmEqH9Ht"
   },
   "source": [
    "모든 기준은 대한민국 평균 연령로 결정  \n",
    "1) 평균 취업 연령 : 28세  \n",
    "2) 평균 결혼 및 출산 연령 : 32세  \n",
    "3) 평균 내 집 마련 연령 : 40세  \n",
    "4) 평균 은퇴 연령 : 60세   \n",
    "를 이용해 age를 범주화하여 age_level 생성"
   ]
  },
  {
   "cell_type": "code",
   "execution_count": 74,
   "metadata": {
    "id": "yfs-VIjvZqmP"
   },
   "outputs": [],
   "source": [
    "condition1 = (train['age'] < 28)\n",
    "condition2 = (train['age'] >= 28) & (train['age'] < 32)\n",
    "condition3 = (train['age'] >= 32) & (train['age'] < 40)\n",
    "condition4 = (train['age'] >= 40) & (train['age'] < 60)\n",
    "condition5 = (train['age'] >= 60)"
   ]
  },
  {
   "cell_type": "code",
   "execution_count": 75,
   "metadata": {
    "id": "81fmoTForGm0"
   },
   "outputs": [],
   "source": [
    "train['age_level'] = np.where(condition1, 0, np.where(condition2,1,np.where(condition3,2,np.where(condition4,3,np.where(condition5,4,\"NaN\")))))"
   ]
  },
  {
   "cell_type": "code",
   "execution_count": 76,
   "metadata": {
    "id": "hzD697mwpV4o"
   },
   "outputs": [],
   "source": [
    "condition1 = (test['age'] < 28)\n",
    "condition2 = (test['age'] >= 28) & (test['age'] < 32)\n",
    "condition3 = (test['age'] >= 32) & (test['age'] < 40)\n",
    "condition4 = (test['age'] >= 40) & (test['age'] < 60)\n",
    "condition5 = (test['age'] >= 60)"
   ]
  },
  {
   "cell_type": "code",
   "execution_count": 77,
   "metadata": {
    "id": "KvWz6rK0ZrAY"
   },
   "outputs": [],
   "source": [
    "test['age_level'] = np.where(condition1, 0, np.where(condition2,1,np.where(condition3,2,np.where(condition4,3,np.where(condition5,4,\"NaN\")))))"
   ]
  },
  {
   "cell_type": "code",
   "execution_count": 78,
   "metadata": {
    "id": "CdBanv7uh1ec"
   },
   "outputs": [],
   "source": [
    "train.drop(['age'],axis= 1, inplace=True)\n",
    "test.drop(['age'],axis= 1, inplace=True)"
   ]
  },
  {
   "cell_type": "markdown",
   "metadata": {
    "id": "Ouxvwjv8U-_p"
   },
   "source": [
    "## over_desired 파생변수 생성"
   ]
  },
  {
   "cell_type": "markdown",
   "metadata": {
    "id": "sYp-PSv1IfhM"
   },
   "source": [
    "희망 대출 금액과 대출 한도 금액을 비교하여 desired_amount(희망 대출 금액)보다 loan_limit(대출 한도 금액)가 클 경우 1, 그렇지 않을 경우 0의 값을 할당"
   ]
  },
  {
   "cell_type": "code",
   "execution_count": 79,
   "metadata": {
    "id": "2IFbdEMbVDg_"
   },
   "outputs": [],
   "source": [
    "condition_tr =((train['desired_amount'] - train['loan_limit']) >=0)\n",
    "condition_te =((test['desired_amount'] - test['loan_limit']) >=0)"
   ]
  },
  {
   "cell_type": "code",
   "execution_count": 80,
   "metadata": {
    "id": "b1U_9yMyVDkA"
   },
   "outputs": [],
   "source": [
    "train['over_desired']=np.where(condition_tr,0,1)\n",
    "test['over_desired']=np.where(condition_te,0,1)"
   ]
  },
  {
   "cell_type": "markdown",
   "metadata": {
    "id": "0qKv3ArjjHuU"
   },
   "source": [
    "## train_preprocessing.csv, test_preprocessing.csv 생성"
   ]
  },
  {
   "cell_type": "code",
   "execution_count": 93,
   "metadata": {
    "colab": {
     "base_uri": "https://localhost:8080/",
     "height": 0
    },
    "id": "b1Oc2L3LZDSZ",
    "outputId": "bf4ddfcd-27f2-48b7-a5ed-2d781275f8c6"
   },
   "outputs": [
    {
     "data": {
      "text/plain": [
       "(6168569, 27)"
      ]
     },
     "execution_count": 93,
     "metadata": {},
     "output_type": "execute_result"
    }
   ],
   "source": [
    "train.shape"
   ]
  },
  {
   "cell_type": "code",
   "execution_count": 94,
   "metadata": {
    "colab": {
     "base_uri": "https://localhost:8080/",
     "height": 0
    },
    "id": "s31AVol-ZDWN",
    "outputId": "c35a0412-cdaa-4740-da98-115e3e16c928"
   },
   "outputs": [
    {
     "data": {
      "text/plain": [
       "(3255194, 26)"
      ]
     },
     "execution_count": 94,
     "metadata": {},
     "output_type": "execute_result"
    }
   ],
   "source": [
    "test.shape"
   ]
  },
  {
   "cell_type": "code",
   "execution_count": 105,
   "metadata": {
    "colab": {
     "base_uri": "https://localhost:8080/",
     "height": 0
    },
    "id": "NQmIEQ1bMMlP",
    "outputId": "a0325462-ab32-4baf-8b7a-b3cd8a117cd8"
   },
   "outputs": [
    {
     "data": {
      "text/plain": [
       "(3255194, 2)"
      ]
     },
     "execution_count": 105,
     "metadata": {},
     "output_type": "execute_result"
    }
   ],
   "source": [
    "# submission.shape"
   ]
  },
  {
   "cell_type": "markdown",
   "metadata": {
    "id": "zDcws8pTIr-x"
   },
   "source": [
    "추후 원활한 모델링을 위한 전처리 과정을 거친 train과 test의 csv 생성"
   ]
  },
  {
   "cell_type": "code",
   "execution_count": 95,
   "metadata": {
    "id": "wSuJx9YdjUS_"
   },
   "outputs": [],
   "source": [
    "# train.to_csv(\"train_preprocessing.csv\")"
   ]
  },
  {
   "cell_type": "code",
   "execution_count": 96,
   "metadata": {
    "id": "Qlq4_8zEjUX_"
   },
   "outputs": [],
   "source": [
    "# test.to_csv(\"test_preprocessing.csv\")"
   ]
  }
 ],
 "metadata": {
  "colab": {
   "collapsed_sections": [
    "YpD5HbnS429Q",
    "yZfBh13kZNXo",
    "7YDbAZjSblUn",
    "uL7Tj5s-mNyJ",
    "XhfFuDaH3Sqa",
    "N1F4Ol9xUUQ_",
    "89R435pgZchq",
    "PuBjWpV5UlJj",
    "p6ayHcO0ggIJ",
    "LN3PFjZe2qkR",
    "CeiO9atVTfvF",
    "35o5-F8pXjGG",
    "qk_WtONbCFY0",
    "UoUSt3mqhzop",
    "Ouxvwjv8U-_p"
   ],
   "machine_shape": "hm",
   "provenance": []
  },
  "kernelspec": {
   "display_name": "Python 3 (ipykernel)",
   "language": "python",
   "name": "python3"
  },
  "language_info": {
   "codemirror_mode": {
    "name": "ipython",
    "version": 3
   },
   "file_extension": ".py",
   "mimetype": "text/x-python",
   "name": "python",
   "nbconvert_exporter": "python",
   "pygments_lexer": "ipython3",
   "version": "3.9.12"
  },
  "vscode": {
   "interpreter": {
    "hash": "31f2aee4e71d21fbe5cf8b01ff0e069b9275f58929596ceb00d14d90e3e16cd6"
   }
  }
 },
 "nbformat": 4,
 "nbformat_minor": 1
}
