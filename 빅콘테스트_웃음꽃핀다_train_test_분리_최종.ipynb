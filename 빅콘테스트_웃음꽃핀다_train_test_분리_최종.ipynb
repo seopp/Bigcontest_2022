{
  "nbformat": 4,
  "nbformat_minor": 0,
  "metadata": {
    "colab": {
      "provenance": [],
      "collapsed_sections": [],
      "machine_shape": "hm"
    },
    "kernelspec": {
      "name": "python3",
      "display_name": "Python 3"
    },
    "language_info": {
      "name": "python"
    }
  },
  "cells": [
    {
      "cell_type": "code",
      "execution_count": 1,
      "metadata": {
        "id": "7kv61KjPKNFL",
        "colab": {
          "base_uri": "https://localhost:8080/"
        },
        "outputId": "c0a1a8bb-2af1-43c8-8a0e-904c7fa530ad"
      },
      "outputs": [
        {
          "output_type": "stream",
          "name": "stdout",
          "text": [
            "Mounted at /content/drive\n"
          ]
        }
      ],
      "source": [
        "from google.colab import drive\n",
        "drive.mount('/content/drive')"
      ]
    },
    {
      "cell_type": "code",
      "source": [
        "import numpy as np\n",
        "import pandas as pd"
      ],
      "metadata": {
        "id": "ygFuYkEPKWAH"
      },
      "execution_count": 2,
      "outputs": []
    },
    {
      "cell_type": "code",
      "source": [
        "pd.options.display.float_format = '{:.5f}'.format"
      ],
      "metadata": {
        "id": "7NllKknB9DXJ"
      },
      "execution_count": 3,
      "outputs": []
    },
    {
      "cell_type": "code",
      "source": [
        "user_spec = pd.read_csv(\"/content/drive/MyDrive/빅콘테스트/빅콘테스트_데이터셋/user_spec.csv\")"
      ],
      "metadata": {
        "id": "rv44uF4SOCbR"
      },
      "execution_count": 4,
      "outputs": []
    },
    {
      "cell_type": "code",
      "source": [
        "loan_result = pd.read_csv(\"/content/drive/MyDrive/빅콘테스트/빅콘테스트_데이터셋/loan_result.csv\")"
      ],
      "metadata": {
        "id": "WY1zeQtDOCjY"
      },
      "execution_count": 5,
      "outputs": []
    },
    {
      "cell_type": "markdown",
      "source": [
        "## 모델링을 위한 Train, Test data Split"
      ],
      "metadata": {
        "id": "T--ystCiVmNH"
      }
    },
    {
      "cell_type": "code",
      "source": [
        "df = pd.merge(user_spec, loan_result)"
      ],
      "metadata": {
        "id": "8ZoPwO1Uv-wu"
      },
      "execution_count": 6,
      "outputs": []
    },
    {
      "cell_type": "code",
      "source": [
        "train = df[~df['is_applied'].isnull()]\n",
        "test = df[df['is_applied'].isnull()]\n",
        "test = test.drop('is_applied',axis=1)"
      ],
      "metadata": {
        "id": "h8Vn7dR8FF4C"
      },
      "execution_count": 7,
      "outputs": []
    },
    {
      "cell_type": "code",
      "source": [
        "train.reset_index(drop=True, inplace =True)\n",
        "test.reset_index(drop=True, inplace =True)"
      ],
      "metadata": {
        "id": "R3Vgll3Zsrr_"
      },
      "execution_count": 8,
      "outputs": []
    },
    {
      "cell_type": "code",
      "source": [
        "train.to_csv('bigcon_train_origin.csv')"
      ],
      "metadata": {
        "id": "diE4qnyHqoqQ"
      },
      "execution_count": null,
      "outputs": []
    },
    {
      "cell_type": "code",
      "source": [
        "test.to_csv('bigcon_test_origin.csv')"
      ],
      "metadata": {
        "id": "XrGMwuQQqwwj"
      },
      "execution_count": null,
      "outputs": []
    }
  ]
}